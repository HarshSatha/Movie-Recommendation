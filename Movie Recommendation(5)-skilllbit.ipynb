{
 "cells": [
  {
   "cell_type": "code",
   "execution_count": 2,
   "id": "504deefd",
   "metadata": {},
   "outputs": [
    {
     "name": "stdout",
     "output_type": "stream",
     "text": [
      "Top Movie Recommendations for User 1\n",
      "                              Movie Title  Predicted Rating\n",
      "0                 Schindler's List (1993)          2.037720\n",
      "1       E.T. the Extra-Terrestrial (1982)          1.873322\n",
      "2  One Flew Over the Cuckoo's Nest (1975)          1.794487\n",
      "3             English Patient, The (1996)          1.742308\n",
      "4                           Scream (1996)          1.694651\n"
     ]
    }
   ],
   "source": [
    "# Step 1: Import Libraries\n",
    "import pandas as pd\n",
    "import numpy as np\n",
    "from sklearn.metrics.pairwise import cosine_similarity\n",
    "from sklearn.metrics import mean_squared_error\n",
    "from math import sqrt\n",
    "\n",
    "# Step 2: Load Dataset\n",
    "# Update the file paths to the location on your machine\n",
    "ratings_path = \"C:/Users/harsh/OneDrive/Desktop/Projects/Internship Projects/SkillBit/implementation/ml-100k/ml-100k/u.data\"\n",
    "movies_path = \"C:/Users/harsh/OneDrive/Desktop/Projects/Internship Projects/SkillBit/implementation/ml-100k/ml-100k/u.item\"\n",
    "\n",
    "# Read ratings data\n",
    "ratings = pd.read_csv(ratings_path, sep=\"\\t\", names=[\"user_id\", \"movie_id\", \"rating\", \"timestamp\"])\n",
    "# Read movies data\n",
    "movies = pd.read_csv(movies_path, sep=\"|\", encoding=\"latin-1\", names=[\"movie_id\", \"title\"], usecols=[0, 1])\n",
    "\n",
    "# Merge datasets\n",
    "data = pd.merge(ratings, movies, on=\"movie_id\")\n",
    "\n",
    "# Step 3: Create User-Item Matrix\n",
    "user_item_matrix = data.pivot_table(index='user_id', columns='title', values='rating')\n",
    "\n",
    "# Fill missing values with 0 (for simplicity)\n",
    "user_item_matrix = user_item_matrix.fillna(0)\n",
    "\n",
    "# Step 4: Calculate Similarity\n",
    "# Cosine Similarity between users\n",
    "user_similarity = cosine_similarity(user_item_matrix)\n",
    "user_similarity_df = pd.DataFrame(user_similarity, index=user_item_matrix.index, columns=user_item_matrix.index)\n",
    "\n",
    "# Step 5: Prediction Function\n",
    "def predict_ratings(user_id):\n",
    "    user_ratings = user_item_matrix.loc[user_id]\n",
    "    similar_users = user_similarity_df[user_id]\n",
    "    \n",
    "    # Weighted sum of ratings\n",
    "    weighted_ratings = np.dot(similar_users, user_item_matrix.fillna(0))\n",
    "    sum_of_weights = np.abs(similar_users).sum()\n",
    "    \n",
    "    predicted_ratings = weighted_ratings / sum_of_weights\n",
    "    return predicted_ratings\n",
    "\n",
    "# Step 6: Get Recommendations\n",
    "def recommend_movies(user_id, num_recommendations=5):\n",
    "    predicted_ratings = predict_ratings(user_id)\n",
    "    movie_recommendations = pd.Series(predicted_ratings, index=user_item_matrix.columns)\n",
    "    \n",
    "    # Exclude already rated movies\n",
    "    rated_movies = user_item_matrix.loc[user_id][user_item_matrix.loc[user_id] > 0].index\n",
    "    movie_recommendations = movie_recommendations.drop(index=rated_movies)\n",
    "    \n",
    "    # Get top recommendations\n",
    "    top_recommendations = movie_recommendations.nlargest(num_recommendations)\n",
    "    \n",
    "    # Format output\n",
    "    recommendations = pd.DataFrame({\n",
    "        'Movie Title': top_recommendations.index,\n",
    "        'Predicted Rating': top_recommendations.values\n",
    "    })\n",
    "    return recommendations\n",
    "\n",
    "\n",
    "# Example: Recommend 5 movies for user with ID 1\n",
    "user_id = 1  # Specify the user ID\n",
    "num_recommendations = 5  # Number of recommendations to display\n",
    "\n",
    "recommendations = recommend_movies(user_id, num_recommendations)\n",
    "print(\"Top Movie Recommendations for User\", user_id)\n",
    "print(recommendations)\n",
    "\n"
   ]
  },
  {
   "cell_type": "code",
   "execution_count": null,
   "id": "5b63ecc8",
   "metadata": {},
   "outputs": [],
   "source": []
  }
 ],
 "metadata": {
  "kernelspec": {
   "display_name": "Python 3 (ipykernel)",
   "language": "python",
   "name": "python3"
  },
  "language_info": {
   "codemirror_mode": {
    "name": "ipython",
    "version": 3
   },
   "file_extension": ".py",
   "mimetype": "text/x-python",
   "name": "python",
   "nbconvert_exporter": "python",
   "pygments_lexer": "ipython3",
   "version": "3.9.12"
  }
 },
 "nbformat": 4,
 "nbformat_minor": 5
}
